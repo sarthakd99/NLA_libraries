{
  "nbformat": 4,
  "nbformat_minor": 0,
  "metadata": {
    "colab": {
      "provenance": [],
      "include_colab_link": true
    },
    "kernelspec": {
      "name": "python3",
      "display_name": "Python 3"
    },
    "language_info": {
      "name": "python"
    },
    "accelerator": "GPU",
    "gpuClass": "standard"
  },
  "cells": [
    {
      "cell_type": "markdown",
      "metadata": {
        "id": "view-in-github",
        "colab_type": "text"
      },
      "source": [
        "<a href=\"https://colab.research.google.com/github/sarthakd99/NLA_libraries/blob/main/Lib_comparison.ipynb\" target=\"_parent\"><img src=\"https://colab.research.google.com/assets/colab-badge.svg\" alt=\"Open In Colab\"/></a>"
      ]
    },
    {
      "cell_type": "code",
      "source": [
        "import time \n",
        "import numpy as np\n",
        "import torch\n",
        "import tensorflow as tf"
      ],
      "metadata": {
        "id": "uhdFfoBSIHbY"
      },
      "execution_count": null,
      "outputs": []
    },
    {
      "cell_type": "markdown",
      "source": [
        "# Matrix Multiplication in Pytorch\n",
        "1. torch.matmul\n",
        "2. torch.mm\n",
        "3. torch.bmm (@ operator)"
      ],
      "metadata": {
        "id": "Kf-3WUu6mZCH"
      }
    },
    {
      "cell_type": "markdown",
      "source": [
        "# torch.matmul(input, other) "
      ],
      "metadata": {
        "id": "BVWNduDZlWze"
      }
    },
    {
      "cell_type": "markdown",
      "source": [
        "### a. If both tensors are 1-dimensional, the dot product (scalar) is returned"
      ],
      "metadata": {
        "id": "AGsxqK66ljmc"
      }
    },
    {
      "cell_type": "code",
      "source": [
        "tensor1 = torch.randn(3)\n",
        "tensor2 = torch.randn(3)\n",
        "print(\"a = \", tensor1)\n",
        "print(\"b = \",tensor2)\n",
        "result = torch.matmul(tensor1, tensor2)\n",
        "print(\"Matrix Multiplication\")\n",
        "print(\"result = \", result)\n",
        "print(\"result shape = \", result.shape)"
      ],
      "metadata": {
        "colab": {
          "base_uri": "https://localhost:8080/"
        },
        "id": "dLnxQsnwbcaU",
        "outputId": "b96c76c1-ed97-4b4d-b20f-e772f3391447"
      },
      "execution_count": null,
      "outputs": [
        {
          "output_type": "stream",
          "name": "stdout",
          "text": [
            "a =  tensor([-1.9600, -0.0771, -1.1283])\n",
            "b =  tensor([-0.0920, -0.0374,  0.6208])\n",
            "Matrix Multiplication\n",
            "result =  tensor(-0.5172)\n",
            "result shape =  torch.Size([])\n"
          ]
        }
      ]
    },
    {
      "cell_type": "markdown",
      "source": [
        "### b. If both arguments are 2-dimensional, the matrix-matrix product is returned."
      ],
      "metadata": {
        "id": "6VwUzTpdluzL"
      }
    },
    {
      "cell_type": "code",
      "source": [
        "tensor1 = torch.randn(2,2)\n",
        "tensor2 = torch.randn(2,2)\n",
        "print(\"a = \", tensor1)\n",
        "print(\"b = \",tensor2)\n",
        "result = torch.matmul(tensor1, tensor2)\n",
        "print(\"Matrix Multiplication\")\n",
        "print(\"result = \", result)\n",
        "print(\"result shape = \", result.shape)"
      ],
      "metadata": {
        "colab": {
          "base_uri": "https://localhost:8080/"
        },
        "id": "gNTeJG_mcNhb",
        "outputId": "bfcec225-09d1-4cf9-c247-104fc72d67d6"
      },
      "execution_count": null,
      "outputs": [
        {
          "output_type": "stream",
          "name": "stdout",
          "text": [
            "a =  tensor([[-0.5378, -0.7393],\n",
            "        [ 1.1999,  0.9112]])\n",
            "b =  tensor([[1.0585, 0.9816],\n",
            "        [0.9476, 0.2258]])\n",
            "Matrix Multiplication\n",
            "result =  tensor([[-1.2699, -0.6949],\n",
            "        [ 2.1335,  1.3836]])\n",
            "result shape =  torch.Size([2, 2])\n"
          ]
        }
      ]
    },
    {
      "cell_type": "markdown",
      "source": [
        "###c. If the first argument is 2-dimensional and the second argument is 1-dimensional, the matrix-vector product is return\n"
      ],
      "metadata": {
        "id": "kncH5o_xl1SI"
      }
    },
    {
      "cell_type": "code",
      "source": [
        "tensor1 = torch.randn(3, 4)\n",
        "tensor2 = torch.randn(4)\n",
        "print(\"a = \", tensor1)\n",
        "print(\"a.shape = \", tensor1.shape)\n",
        "print(\"b = \",tensor2)\n",
        "print(\"b.shape = \", tensor2.shape)\n",
        "result = torch.matmul(tensor1, tensor2)\n",
        "print(\"Matrix Multiplication\")\n",
        "print(\"result = \", result)\n",
        "print(\"result shape = \", result.shape)"
      ],
      "metadata": {
        "colab": {
          "base_uri": "https://localhost:8080/"
        },
        "id": "tKnuyfKbcj71",
        "outputId": "1ee15185-3146-4dcb-e977-dd2b1e7e3ebb"
      },
      "execution_count": null,
      "outputs": [
        {
          "output_type": "stream",
          "name": "stdout",
          "text": [
            "a =  tensor([[ 0.7430, -1.0386, -0.6316,  1.1493],\n",
            "        [-0.9619, -0.0637,  0.8153, -0.4538],\n",
            "        [ 0.9085,  1.5303,  0.2113,  0.2086]])\n",
            "a.shape =  torch.Size([3, 4])\n",
            "b =  tensor([-0.4484, -0.1205, -0.7371,  0.3574])\n",
            "b.shape =  torch.Size([4])\n",
            "Matrix Multiplication\n",
            "result =  tensor([ 0.6682, -0.3241, -0.6729])\n",
            "result shape =  torch.Size([3])\n"
          ]
        }
      ]
    },
    {
      "cell_type": "markdown",
      "source": [
        "###d. Batch multiplication\n",
        "### We can consider there are 10 matrices of size $(3 × 4)$ each, and we mulitply them with the $(4 \\times 5)$ indiviusally (10 times) so we get an output of $(10 \\times 3 \\times 5)$ "
      ],
      "metadata": {
        "id": "j6Vy-f0omC48"
      }
    },
    {
      "cell_type": "code",
      "source": [
        "tensor1 = torch.randn(10, 3, 4)\n",
        "tensor2 = torch.randn(4, 5)\n",
        "print(\"a = \", tensor1)\n",
        "print(\"a.shape = \", tensor1.shape)\n",
        "print(\"b = \",tensor2)\n",
        "print(\"b.shape = \", tensor2.shape)\n",
        "result = torch.matmul(tensor1, tensor2)\n",
        "print(\"Matrix Multiplication\")\n",
        "print(\"result = \", result)\n",
        "print(\"result shape = \", result.shape)"
      ],
      "metadata": {
        "colab": {
          "base_uri": "https://localhost:8080/"
        },
        "id": "wWulMzKeg65Z",
        "outputId": "eb9c3e19-27a1-4d49-dafb-9f5b6cf198e2"
      },
      "execution_count": null,
      "outputs": [
        {
          "output_type": "stream",
          "name": "stdout",
          "text": [
            "a =  tensor([[[-1.5178e+00,  1.8911e-01,  7.1672e-01,  4.0953e-01],\n",
            "         [-1.2885e+00, -1.9387e+00,  4.1649e-01, -5.7361e-01],\n",
            "         [-3.8721e-02, -3.4056e+00, -1.0182e+00, -5.2486e-01]],\n",
            "\n",
            "        [[-6.6768e-01, -2.5695e+00, -7.6751e-01,  2.9932e-01],\n",
            "         [-4.3196e-01,  7.7619e-01, -1.1394e+00,  6.1207e-01],\n",
            "         [-2.1119e+00,  2.3457e-02, -1.7494e+00, -9.0651e-01]],\n",
            "\n",
            "        [[-1.2016e+00,  6.4071e-01,  2.5014e+00,  1.2764e+00],\n",
            "         [ 1.4917e+00, -6.1797e-01, -2.0771e-01,  3.9639e-01],\n",
            "         [-1.8710e-01, -1.0319e-02,  2.0566e+00, -1.0867e+00]],\n",
            "\n",
            "        [[-2.0789e-02, -6.0029e-03, -1.2130e-04, -1.8311e-01],\n",
            "         [-1.9235e-02, -2.0557e+00,  1.3564e+00,  4.0022e-01],\n",
            "         [-1.5469e+00, -3.2519e-01,  1.8983e-01,  5.0507e-01]],\n",
            "\n",
            "        [[ 9.1842e-01,  1.0978e+00,  1.9762e-01,  4.7936e-02],\n",
            "         [ 1.6011e+00,  8.3670e-01, -7.8729e-01,  5.3989e-03],\n",
            "         [-2.3281e+00, -8.5402e-01, -6.4492e-02, -1.4133e-01]],\n",
            "\n",
            "        [[ 1.7167e-03,  1.6303e-01,  1.6541e-01, -1.4577e-01],\n",
            "         [ 6.4433e-01,  9.4767e-01, -1.2829e+00, -2.8824e-01],\n",
            "         [-1.2878e+00, -4.4726e-01, -8.7320e-01,  8.7712e-01]],\n",
            "\n",
            "        [[ 2.9748e-01, -1.7665e-01,  3.8998e-01, -1.0873e+00],\n",
            "         [ 1.8661e-01, -7.6031e-01, -5.2172e-02, -1.6350e+00],\n",
            "         [-7.1299e-02,  3.1291e-01, -1.5765e+00,  3.7322e-03]],\n",
            "\n",
            "        [[-2.2491e-01,  9.2420e-01, -1.3738e+00,  6.0738e-02],\n",
            "         [ 3.0190e-01, -5.5194e-01,  5.0657e-01,  1.1289e+00],\n",
            "         [-6.5380e-01,  2.7500e-01,  3.5409e-01, -2.7474e-02]],\n",
            "\n",
            "        [[-1.5155e+00,  8.5850e-01, -1.1634e+00,  3.8814e-01],\n",
            "         [ 1.9117e-01,  6.1217e-01, -2.9699e-01, -1.1131e+00],\n",
            "         [ 2.0032e+00,  2.6049e+00, -1.0992e+00, -1.6652e-01]],\n",
            "\n",
            "        [[ 1.7857e+00,  1.0718e-01,  1.0304e+00,  5.3081e-01],\n",
            "         [ 2.1942e-01, -1.1521e+00,  7.0007e-02, -1.4628e+00],\n",
            "         [-1.5510e-02,  5.6732e-01, -4.6384e-01, -5.4987e-01]]])\n",
            "a.shape =  torch.Size([10, 3, 4])\n",
            "b =  tensor([[-0.2489,  0.3846,  0.8484, -0.2852,  0.4086],\n",
            "        [ 1.7910,  1.1790, -0.7938,  1.2328, -0.6585],\n",
            "        [-0.0100, -0.4299,  1.8387,  0.3508, -1.2001],\n",
            "        [-0.5041, -0.7898,  1.1607, -0.6958,  0.2462]])\n",
            "b.shape =  torch.Size([4, 5])\n",
            "Matrix Multiplication\n",
            "result =  tensor([[[ 0.5029, -0.9924,  0.3555,  0.6325, -1.5040],\n",
            "         [-2.8665, -2.5073,  0.5458, -1.4773,  0.1092],\n",
            "         [-5.8150, -3.1778,  0.1891, -4.1793,  3.3197]],\n",
            "\n",
            "        [[-4.5790, -3.1927,  0.4094, -3.4547,  2.4142],\n",
            "         [ 1.2004,  0.7554, -2.3671,  0.2546,  0.8304],\n",
            "         [ 1.0420,  0.6834, -6.0792,  0.6484,  0.9980]],\n",
            "\n",
            "        [[ 0.7782, -1.7903,  4.5528,  1.1219, -3.6006],\n",
            "         [-1.6758, -0.3786,  1.8342, -1.5360,  1.3633],\n",
            "         [ 0.5554, -0.1100,  2.3696,  1.5181, -2.8055]],\n",
            "\n",
            "        [[ 0.0867,  0.1296, -0.2256,  0.1259, -0.0495],\n",
            "         [-3.8921, -3.3303,  4.5740, -2.3314, -0.1834],\n",
            "         [-0.4539, -1.4589, -0.1190, -0.2445, -0.5213]],\n",
            "\n",
            "        [[ 1.7115,  1.5248,  0.3268,  1.1274, -0.5731],\n",
            "         [ 1.1051,  1.9365, -0.7472,  0.2949,  1.0493],\n",
            "         [-0.8782, -1.7630, -1.5798, -0.3130, -0.3462]],\n",
            "\n",
            "        [[ 0.3634,  0.2369,  0.0070,  0.3599, -0.3411],\n",
            "         [ 1.6949,  2.1443, -2.8991,  0.7350,  1.1079],\n",
            "         [-0.9139, -1.3400, -1.3250, -1.1006,  1.0323]],\n",
            "\n",
            "        [[ 0.1538,  0.5973, -0.1524,  0.5906, -0.4979],\n",
            "         [-0.5834,  0.4892, -1.2319,  0.1288,  0.2370],\n",
            "         [ 0.5920,  1.0163, -3.2034, -0.1495,  1.6578]],\n",
            "\n",
            "        [[ 1.6942,  1.5457, -3.3799,  0.6794,  0.9631],\n",
            "         [-1.6377, -1.6440,  2.9360, -1.3743,  0.1568],\n",
            "         [ 0.6656, -0.0578, -0.1538,  0.6688, -0.8799]],\n",
            "\n",
            "        [[ 1.7307,  0.6228, -3.6557,  0.8125,  0.3072],\n",
            "         [ 1.6129,  1.8021, -2.1619,  1.3704, -0.2427],\n",
            "         [ 4.2615,  4.4457, -2.5826,  2.3701,  0.3812]],\n",
            "\n",
            "        [[-0.5303, -0.0490,  3.9406, -0.3851, -0.4470],\n",
            "         [-1.3812, -0.1486, -0.4686, -0.4405,  0.4041],\n",
            "         [ 1.3017,  1.2966, -1.9546,  0.9237,  0.0413]]])\n",
            "result shape =  torch.Size([10, 3, 5])\n"
          ]
        }
      ]
    },
    {
      "cell_type": "markdown",
      "source": [
        "### e. Batched matrix x broadcasted vector"
      ],
      "metadata": {
        "id": "IfoanUv8mKOC"
      }
    },
    {
      "cell_type": "code",
      "source": [
        "tensor1 = torch.randn(10, 3, 4)\n",
        "tensor2 = torch.randn(4)\n",
        "print(\"a = \", tensor1)\n",
        "print(\"a.shape = \", tensor1.shape)\n",
        "print(\"b = \",tensor2)\n",
        "print(\"b.shape = \", tensor2.shape)\n",
        "result = torch.matmul(tensor1, tensor2)\n",
        "print(\"Matrix Multiplication\")\n",
        "print(\"result = \", result)\n",
        "print(\"result shape = \", result.shape)"
      ],
      "metadata": {
        "colab": {
          "base_uri": "https://localhost:8080/"
        },
        "id": "gkNFZhpog6yO",
        "outputId": "bfe91b8c-e1dc-480a-f120-7a727ea13a5d"
      },
      "execution_count": null,
      "outputs": [
        {
          "output_type": "stream",
          "name": "stdout",
          "text": [
            "a =  tensor([[[ 2.1951, -0.7033, -1.0281,  0.9812],\n",
            "         [-1.4087, -0.2304,  0.1978,  1.7817],\n",
            "         [-2.2070, -0.5178,  1.6159,  1.3061]],\n",
            "\n",
            "        [[ 1.0488, -0.1014, -0.1316, -0.0131],\n",
            "         [ 0.2175, -1.6450, -0.8306,  0.4784],\n",
            "         [-0.6471, -0.4271, -0.9098,  0.2213]],\n",
            "\n",
            "        [[ 0.7702, -0.6468, -0.6912, -2.2399],\n",
            "         [-0.6797, -0.0697, -0.4725,  1.6453],\n",
            "         [ 0.7231,  0.3355, -0.3583,  0.5908]],\n",
            "\n",
            "        [[ 1.0870,  0.0400,  0.6138,  0.4343],\n",
            "         [ 1.5825, -0.7033,  1.4403,  0.0310],\n",
            "         [ 0.8888, -1.2603, -0.1909, -2.4673]],\n",
            "\n",
            "        [[-0.3686,  0.3740, -0.3624,  1.3859],\n",
            "         [-0.2411, -0.4875, -0.8253, -0.5790],\n",
            "         [-0.1424,  0.1419,  0.4314, -0.9126]],\n",
            "\n",
            "        [[-1.6405, -1.2806,  0.0199, -0.2511],\n",
            "         [-0.6470, -2.0398, -2.0527, -0.4711],\n",
            "         [ 2.3107, -0.3647,  0.4279,  1.7295]],\n",
            "\n",
            "        [[ 0.9408, -0.7001,  1.9401, -0.5736],\n",
            "         [ 0.3623,  0.8928, -0.9771, -0.3604],\n",
            "         [-0.8690,  1.4390, -0.3395, -0.8569]],\n",
            "\n",
            "        [[-2.3573,  0.9190, -0.9941,  0.2036],\n",
            "         [-1.2891, -0.7742, -0.5388,  1.4526],\n",
            "         [-0.7006,  0.7524,  0.3446,  0.2909]],\n",
            "\n",
            "        [[-1.5325,  0.7470,  1.7849, -1.4362],\n",
            "         [-1.0350,  0.7828,  1.0840,  0.9375],\n",
            "         [-1.0865,  2.8310,  1.0152,  1.6207]],\n",
            "\n",
            "        [[-0.6606, -0.5073, -0.6911,  0.2781],\n",
            "         [ 0.5694,  0.0219, -0.2529,  0.7262],\n",
            "         [ 0.3269, -0.5815, -0.5206, -0.1035]]])\n",
            "a.shape =  torch.Size([10, 3, 4])\n",
            "b =  tensor([-0.3331, -1.1258, -1.0490, -0.2030])\n",
            "b.shape =  torch.Size([4])\n",
            "Matrix Multiplication\n",
            "result =  tensor([[ 0.9399,  0.1595, -0.6420],\n",
            "        [-0.0945,  2.5537,  1.6059],\n",
            "        [ 1.6514,  0.4665, -0.3627],\n",
            "        [-1.1392, -1.2525,  1.8239],\n",
            "        [-0.1994,  1.6125, -0.3796],\n",
            "        [ 2.0183,  4.7610, -1.1591],\n",
            "        [-1.4440, -0.0277, -0.8006],\n",
            "        [ 0.7520,  1.5714, -1.0343],\n",
            "        [-1.9114, -1.8640, -4.2192],\n",
            "        [ 1.4597, -0.0965,  1.1129]])\n",
            "result shape =  torch.Size([10, 3])\n"
          ]
        }
      ]
    },
    {
      "cell_type": "markdown",
      "source": [
        "# 2. torch.mm\n",
        "\n",
        "- This function doesn't allow broadcasting\n",
        "- If input is a $(n x m)$ tensor, mat2 is a $(m x p)$ tensor, out will be a $(n x p)$ tensor\n",
        "- Requires both inputs to be matrix"
      ],
      "metadata": {
        "id": "-PQ0qgAdmjVv"
      }
    },
    {
      "cell_type": "code",
      "source": [
        "tensor1 = torch.randn(3,2)\n",
        "tensor2 = torch.randn(2,4)\n",
        "print(\"a = \", tensor1)\n",
        "print(\"b = \",tensor2)\n",
        "result = torch.mm(tensor1, tensor2)\n",
        "print(\"Matrix Multiplication\")\n",
        "print(\"result = \", result)\n",
        "print(\"result shape = \", result.shape)"
      ],
      "metadata": {
        "colab": {
          "base_uri": "https://localhost:8080/"
        },
        "id": "m9SYFkOnm0Zx",
        "outputId": "56933d5e-98d4-418a-e9b2-98b6fedf8d55"
      },
      "execution_count": null,
      "outputs": [
        {
          "output_type": "stream",
          "name": "stdout",
          "text": [
            "a =  tensor([[ 2.6638,  1.5010],\n",
            "        [ 0.7859,  0.4591],\n",
            "        [ 0.6587, -1.9467]])\n",
            "b =  tensor([[-0.2277, -0.3544, -0.4251, -0.4128],\n",
            "        [-0.4655, -0.0213,  1.5327, -0.5774]])\n",
            "Matrix Multiplication\n",
            "result =  tensor([[-1.3051, -0.9760,  1.1683, -1.9663],\n",
            "        [-0.3926, -0.2883,  0.3696, -0.5895],\n",
            "        [ 0.7562, -0.1919, -3.2637,  0.8522]])\n",
            "result shape =  torch.Size([3, 4])\n"
          ]
        }
      ]
    },
    {
      "cell_type": "markdown",
      "source": [
        "# 3. torch.bmm\n",
        "\n",
        "- This function doesn't allow broadcasting\n",
        "- Performs a batch matrix-matrix product of matrices stored in input and mat2.\n",
        "- input and mat2 must be 3-D tensors each containing the same number of matrices. \n",
        "- If input is a $( b × n × m )$ tensor, mat2 is a $(b × m × p)$ tensor, out will be a $(b × n × p)$ tensor."
      ],
      "metadata": {
        "id": "yKEdV7vynzPN"
      }
    },
    {
      "cell_type": "code",
      "source": [
        "tensor1 = torch.randn(10,3,2)\n",
        "tensor2 = torch.randn(10,2,4)\n",
        "print(\"a = \", tensor1)\n",
        "print(\"b = \",tensor2)\n",
        "result = torch.bmm(tensor1, tensor2)\n",
        "print(\"Matrix Multiplication\")\n",
        "print(\"result = \", result)\n",
        "print(\"result shape = \", result.shape)"
      ],
      "metadata": {
        "colab": {
          "base_uri": "https://localhost:8080/"
        },
        "id": "2rbJtU7ypCm8",
        "outputId": "bec97032-7a9d-4cb1-da75-64c7452e2752"
      },
      "execution_count": null,
      "outputs": [
        {
          "output_type": "stream",
          "name": "stdout",
          "text": [
            "a =  tensor([[[ 1.4831, -0.1337],\n",
            "         [ 0.3855, -0.7183],\n",
            "         [-1.0251,  1.1035]],\n",
            "\n",
            "        [[ 0.5964,  0.6594],\n",
            "         [-0.3277, -0.0306],\n",
            "         [ 1.5217,  0.1057]],\n",
            "\n",
            "        [[-0.3628, -1.0598],\n",
            "         [-1.9851,  1.8015],\n",
            "         [ 0.1152,  1.6164]],\n",
            "\n",
            "        [[ 0.0255, -1.4810],\n",
            "         [ 1.5431,  0.9549],\n",
            "         [ 0.6152,  1.8075]],\n",
            "\n",
            "        [[-0.5262, -1.2462],\n",
            "         [-1.3657, -0.3270],\n",
            "         [ 0.8826,  1.8612]],\n",
            "\n",
            "        [[-0.3312, -1.3905],\n",
            "         [ 2.1238,  0.8739],\n",
            "         [ 1.9019, -0.1205]],\n",
            "\n",
            "        [[-1.0616, -0.6326],\n",
            "         [ 0.0627, -0.9063],\n",
            "         [-2.0943,  0.6003]],\n",
            "\n",
            "        [[-0.4176, -0.9608],\n",
            "         [ 0.1153, -0.7659],\n",
            "         [ 0.8814, -2.1365]],\n",
            "\n",
            "        [[ 0.6040, -0.7310],\n",
            "         [-0.0928,  0.0083],\n",
            "         [ 0.0389, -2.5187]],\n",
            "\n",
            "        [[-0.5384,  0.7085],\n",
            "         [-1.3090, -0.6554],\n",
            "         [-1.2515,  0.4017]]])\n",
            "b =  tensor([[[ 0.7895,  0.8555, -0.0267, -0.6621],\n",
            "         [ 0.6705, -1.8770,  0.7008, -0.8564]],\n",
            "\n",
            "        [[-0.1581, -1.1507,  1.3149, -0.6752],\n",
            "         [ 1.1502, -0.3059,  0.4853, -0.4185]],\n",
            "\n",
            "        [[ 1.4672,  0.6395, -1.0806,  0.7735],\n",
            "         [ 0.2731, -0.9631,  2.5288,  0.4710]],\n",
            "\n",
            "        [[-1.1914, -0.6823,  0.5904, -0.1830],\n",
            "         [-0.2041,  0.4498, -1.3509, -0.1675]],\n",
            "\n",
            "        [[ 1.3440, -1.1412, -0.2202, -0.7675],\n",
            "         [-0.6260, -0.7090, -0.4869, -1.2211]],\n",
            "\n",
            "        [[-2.2431,  0.3412, -0.7730, -0.8475],\n",
            "         [ 2.1158, -0.3745, -1.5986, -0.7775]],\n",
            "\n",
            "        [[ 0.1653, -2.0550, -0.8936,  1.3892],\n",
            "         [-0.1560, -0.5478,  0.4088,  0.2010]],\n",
            "\n",
            "        [[ 0.5206,  1.3746, -0.5246,  2.1036],\n",
            "         [ 0.9810,  0.4275,  1.5817,  1.2354]],\n",
            "\n",
            "        [[-2.9760,  0.6276,  0.1148, -0.8777],\n",
            "         [-1.3791,  1.1656, -1.6575,  1.1580]],\n",
            "\n",
            "        [[-1.8728,  0.4316, -0.2445, -0.2765],\n",
            "         [ 1.5263, -0.7651,  1.0543, -0.4304]]])\n",
            "Matrix Multiplication\n",
            "result =  tensor([[[ 1.0813,  1.5197, -0.1332, -0.8675],\n",
            "         [-0.1772,  1.6781, -0.5137,  0.3599],\n",
            "         [-0.0695, -2.9482,  0.8007, -0.2663]],\n",
            "\n",
            "        [[ 0.6642, -0.8880,  1.1042, -0.6786],\n",
            "         [ 0.0166,  0.3865, -0.4458,  0.2341],\n",
            "         [-0.1190, -1.7835,  2.0522, -1.0717]],\n",
            "\n",
            "        [[-0.8217,  0.7887, -2.2879, -0.7798],\n",
            "         [-2.4206, -3.0044,  6.7006, -0.6870],\n",
            "         [ 0.6104, -1.4831,  3.9631,  0.8504]],\n",
            "\n",
            "        [[ 0.2720, -0.6834,  2.0157,  0.2435],\n",
            "         [-2.0333, -0.6234, -0.3789, -0.4424],\n",
            "         [-1.1019,  0.3932, -2.0785, -0.4154]],\n",
            "\n",
            "        [[ 0.0729,  1.4841,  0.7227,  1.9256],\n",
            "         [-1.6308,  1.7905,  0.4600,  1.4475],\n",
            "         [ 0.0211, -2.3269, -1.1006, -2.9502]],\n",
            "\n",
            "        [[-2.1991,  0.4077,  2.4789,  1.3618],\n",
            "         [-2.9150,  0.3975, -3.0386, -2.4792],\n",
            "         [-4.5211,  0.6941, -1.2774, -1.5180]],\n",
            "\n",
            "        [[-0.0768,  2.5280,  0.6900, -1.6019],\n",
            "         [ 0.1517,  0.3677, -0.4265, -0.0952],\n",
            "         [-0.4398,  3.9750,  2.1168, -2.7887]],\n",
            "\n",
            "        [[-1.1600, -0.9848, -1.3007, -2.0656],\n",
            "         [-0.6913, -0.1689, -1.2719, -0.7037],\n",
            "         [-1.6370,  0.2982, -3.8415, -0.7854]],\n",
            "\n",
            "        [[-0.7893, -0.4730,  1.2809, -1.3766],\n",
            "         [ 0.2647, -0.0485, -0.0244,  0.0911],\n",
            "         [ 3.3579, -2.9114,  4.1792, -2.9509]],\n",
            "\n",
            "        [[ 2.0896, -0.7744,  0.8786, -0.1561],\n",
            "         [ 1.4511, -0.0635, -0.3710,  0.6441],\n",
            "         [ 2.9567, -0.8475,  0.7294,  0.1732]]])\n",
            "result shape =  torch.Size([10, 3, 4])\n"
          ]
        }
      ]
    },
    {
      "cell_type": "markdown",
      "source": [
        "# Matrix Multiplication in Tensorflow\n",
        "1. ## tf.matmul()"
      ],
      "metadata": {
        "id": "WWDquva33U0E"
      }
    },
    {
      "cell_type": "markdown",
      "source": [
        "a. If both matrices are 1-dimensional, the dot product (scalar) is returned"
      ],
      "metadata": {
        "id": "9tz53OOv27wI"
      }
    },
    {
      "cell_type": "code",
      "source": [
        "\n",
        "A1 = tf.constant([[2]])\n",
        "B1 = tf.constant([[2]])\n",
        "C1 = tf.matmul(A1, B1)\n",
        "print(C1)"
      ],
      "metadata": {
        "colab": {
          "base_uri": "https://localhost:8080/"
        },
        "id": "FUwfR6Lj1NZW",
        "outputId": "381a0a36-ac90-46de-e7c8-8b5a75fb8286"
      },
      "execution_count": null,
      "outputs": [
        {
          "output_type": "stream",
          "name": "stdout",
          "text": [
            "tf.Tensor([[4]], shape=(1, 1), dtype=int32)\n"
          ]
        }
      ]
    },
    {
      "cell_type": "markdown",
      "source": [
        "\n",
        "b. \n",
        "- This function doesn't allow broadcasting\n",
        "- If input is a $(n x m)$ matrix, mat2 is a $(m x p)$ matrix, out will be a $(n x p)$ matrix\n"
      ],
      "metadata": {
        "id": "hVCxMnacqMfV"
      }
    },
    {
      "cell_type": "code",
      "source": [
        "\n",
        "A1 = tf.constant([[2, 24], [2, 26], [2, 57]])\n",
        "B1 = tf.constant([[1000], [1500]])\n",
        "print(\"A1=\", A1)\n",
        "print(\"B1=\",B1)\n",
        "print(\"Matrix Multiplication\")\n",
        "C1 = tf.matmul(A1, B1)\n",
        "print(\"Result=\",C1)"
      ],
      "metadata": {
        "id": "xCCbDB6_p6Ek",
        "colab": {
          "base_uri": "https://localhost:8080/"
        },
        "outputId": "d1ca6166-0667-4668-a92a-6e8d6483852c"
      },
      "execution_count": null,
      "outputs": [
        {
          "output_type": "stream",
          "name": "stdout",
          "text": [
            "A1= tf.Tensor(\n",
            "[[ 2 24]\n",
            " [ 2 26]\n",
            " [ 2 57]], shape=(3, 2), dtype=int32)\n",
            "B1= tf.Tensor(\n",
            "[[1000]\n",
            " [1500]], shape=(2, 1), dtype=int32)\n",
            "Matrix Multiplication\n",
            "Result= tf.Tensor(\n",
            "[[38000]\n",
            " [41000]\n",
            " [87500]], shape=(3, 1), dtype=int32)\n"
          ]
        }
      ]
    },
    {
      "cell_type": "markdown",
      "source": [
        "# Matrix Multiplication in Numpy \n",
        "\n",
        "1. np.dot()\n",
        "2. np.matmul()\n",
        "3. np.multiply()\n",
        " "
      ],
      "metadata": {
        "id": "7oyZEhUc2was"
      }
    },
    {
      "cell_type": "code",
      "source": [
        "A = np.random.randint(10,size=(100,100))\n",
        "B = np.random.randint(10,size=(100,100))\n"
      ],
      "metadata": {
        "id": "66_Ge4el5fZ7"
      },
      "execution_count": null,
      "outputs": []
    },
    {
      "cell_type": "markdown",
      "source": [
        "If we take dot product of two matrices $A_{nxm}$.$B_{mxn}$ then the product is $C_{nxn}$."
      ],
      "metadata": {
        "id": "dORBcRT39t9F"
      }
    },
    {
      "cell_type": "code",
      "source": [
        "start=pt()\n",
        "C=np.dot(A,B)\n",
        "end=pt()\n",
        "print(\"A= \",A)\n",
        "print(\"B= \",B)\n",
        "print(\"Matrix Multiplication\")\n",
        "print(\"C= \",C)\n",
        "print(\"Size of result matrix\",C.shape)\n",
        "print(\"Memory Consumption\", sys.getsizeof(C),\" bytes.\")\n",
        "print(\"Computation Time Required\", end-start,\" seconds.\")"
      ],
      "metadata": {
        "colab": {
          "base_uri": "https://localhost:8080/"
        },
        "id": "DDqnTCrS7-Tw",
        "outputId": "2c51c71a-1945-424c-ad71-bd92cb1b5399"
      },
      "execution_count": null,
      "outputs": [
        {
          "output_type": "stream",
          "name": "stdout",
          "text": [
            "A=  [[6 1 9 ... 3 3 9]\n",
            " [4 4 8 ... 0 4 2]\n",
            " [5 1 1 ... 1 2 4]\n",
            " ...\n",
            " [3 8 5 ... 0 6 5]\n",
            " [1 5 4 ... 0 2 8]\n",
            " [5 0 8 ... 5 4 2]]\n",
            "B=  [[2 5 8 ... 5 9 7]\n",
            " [9 1 1 ... 6 2 5]\n",
            " [6 0 8 ... 2 0 1]\n",
            " ...\n",
            " [4 2 8 ... 5 2 3]\n",
            " [7 1 8 ... 3 1 4]\n",
            " [7 3 3 ... 9 6 6]]\n",
            "Matrix Multiplication\n",
            "C=  [[2250 1999 2422 ... 2416 2512 2334]\n",
            " [1913 1581 2113 ... 2103 2034 2046]\n",
            " [2043 2112 2119 ... 2276 2385 2033]\n",
            " ...\n",
            " [2196 1854 2306 ... 2478 2341 2297]\n",
            " [1932 1782 1985 ... 2180 2166 1907]\n",
            " [1937 1764 2070 ... 2070 1941 2077]]\n",
            "Size of result matrix (100, 100)\n",
            "Memory Consumption 80120  bytes.\n",
            "Computation Time Required 0.002966546999999764  seconds.\n"
          ]
        }
      ]
    },
    {
      "cell_type": "markdown",
      "source": [
        "Matrix multiplication of two matrices $A_{nxm}$.$B_{mxn}$ with np.matmul() method results in $C_{nxn}$   \n",
        "\n",
        "This method is useful when the dimensionlity of matrices is not well defined. "
      ],
      "metadata": {
        "id": "tTuWGLT--JYA"
      }
    },
    {
      "cell_type": "code",
      "source": [
        "start=pt()\n",
        "C=np.matmul(A,B)\n",
        "end=pt()\n",
        "print(\"A= \",A)\n",
        "print(\"B= \",B)\n",
        "print(\"Matrix Multiplication\")\n",
        "print(\"C= \",C)\n",
        "print(\"Size of result matrix\",C.shape)\n",
        "print(\"Memory Consumption\", sys.getsizeof(C),\" bytes.\")\n",
        "print(\"Computation Time Required\", end-start,\" seconds.\")"
      ],
      "metadata": {
        "colab": {
          "base_uri": "https://localhost:8080/"
        },
        "id": "6lj2j7ly-I2t",
        "outputId": "fae2afd3-1d20-4c75-ecfc-294dd7d819e5"
      },
      "execution_count": null,
      "outputs": [
        {
          "output_type": "stream",
          "name": "stdout",
          "text": [
            "A=  [[6 1 9 ... 3 3 9]\n",
            " [4 4 8 ... 0 4 2]\n",
            " [5 1 1 ... 1 2 4]\n",
            " ...\n",
            " [3 8 5 ... 0 6 5]\n",
            " [1 5 4 ... 0 2 8]\n",
            " [5 0 8 ... 5 4 2]]\n",
            "B=  [[2 5 8 ... 5 9 7]\n",
            " [9 1 1 ... 6 2 5]\n",
            " [6 0 8 ... 2 0 1]\n",
            " ...\n",
            " [4 2 8 ... 5 2 3]\n",
            " [7 1 8 ... 3 1 4]\n",
            " [7 3 3 ... 9 6 6]]\n",
            "Matrix Multiplication\n",
            "C=  [[2250 1999 2422 ... 2416 2512 2334]\n",
            " [1913 1581 2113 ... 2103 2034 2046]\n",
            " [2043 2112 2119 ... 2276 2385 2033]\n",
            " ...\n",
            " [2196 1854 2306 ... 2478 2341 2297]\n",
            " [1932 1782 1985 ... 2180 2166 1907]\n",
            " [1937 1764 2070 ... 2070 1941 2077]]\n",
            "Size of result matrix (100, 100)\n",
            "Memory Consumption 80120  bytes.\n",
            "Computation Time Required 0.0021940929999999526  seconds.\n"
          ]
        }
      ]
    },
    {
      "cell_type": "markdown",
      "source": [
        "The matrix multiplication of two matrices using np.multiply() method performs element-wise multiplication on them.  When using this method, both matrices should have the same dimensions.\n",
        "\n",
        "$A_{nxm}$x$B_{mxn}$  is possible only when m=n"
      ],
      "metadata": {
        "id": "gUGt2NzX-bgE"
      }
    },
    {
      "cell_type": "code",
      "source": [
        "\n",
        "start=pt()\n",
        "C=np.multiply(A,B)\n",
        "end=pt()\n",
        "print(\"A= \",A)\n",
        "print(\"B= \",B)\n",
        "print(\"Matrix Multiplication\")\n",
        "print(\"C= \",C)\n",
        "print(\"Size of result matrix\",C.shape)\n",
        "print(\"Memory Consumption\", sys.getsizeof(C),\" bytes.\")\n",
        "print(\"Computation Time Required\", end-start,\" seconds.\")"
      ],
      "metadata": {
        "colab": {
          "base_uri": "https://localhost:8080/"
        },
        "id": "GoQEoaj--buZ",
        "outputId": "8bc7216b-9541-4d3a-fe92-438b33736ba9"
      },
      "execution_count": null,
      "outputs": [
        {
          "output_type": "stream",
          "name": "stdout",
          "text": [
            "A=  [[6 1 9 ... 3 3 9]\n",
            " [4 4 8 ... 0 4 2]\n",
            " [5 1 1 ... 1 2 4]\n",
            " ...\n",
            " [3 8 5 ... 0 6 5]\n",
            " [1 5 4 ... 0 2 8]\n",
            " [5 0 8 ... 5 4 2]]\n",
            "B=  [[2 5 8 ... 5 9 7]\n",
            " [9 1 1 ... 6 2 5]\n",
            " [6 0 8 ... 2 0 1]\n",
            " ...\n",
            " [4 2 8 ... 5 2 3]\n",
            " [7 1 8 ... 3 1 4]\n",
            " [7 3 3 ... 9 6 6]]\n",
            "Matrix Multiplication\n",
            "C=  [[12  5 72 ... 15 27 63]\n",
            " [36  4  8 ...  0  8 10]\n",
            " [30  0  8 ...  2  0  4]\n",
            " ...\n",
            " [12 16 40 ...  0 12 15]\n",
            " [ 7  5 32 ...  0  2 32]\n",
            " [35  0 24 ... 45 24 12]]\n",
            "Size of result matrix (100, 100)\n",
            "Memory Consumption 80120  bytes.\n",
            "Computation Time Required 0.00018374499999929128  seconds.\n"
          ]
        }
      ]
    }
  ]
}